{
 "cells": [
  {
   "cell_type": "markdown",
   "metadata": {},
   "source": [
    "# Covid-19 Growth in NYS Prisons\n"
   ]
  },
  {
   "cell_type": "code",
   "execution_count": 28,
   "metadata": {},
   "outputs": [],
   "source": [
    "#import numpy and data science package\n",
    "import matplotlib\n",
    "matplotlib.use('Agg')\n",
    "import datascience.util\n",
    "from datascience import Table\n",
    "%matplotlib inline\n",
    "import matplotlib.pyplot as plt\n",
    "import pandas as pd\n",
    "import numpy as np\n",
    "from statistics import mean\n",
    "plt.style.use('fivethirtyeight')"
   ]
  },
  {
   "cell_type": "code",
   "execution_count": 51,
   "metadata": {},
   "outputs": [],
   "source": [
    "import math\n",
    "import datascience\n"
   ]
  },
  {
   "cell_type": "code",
   "execution_count": 35,
   "metadata": {
    "scrolled": true
   },
   "outputs": [
    {
     "data": {
      "text/html": [
       "<table border=\"1\" class=\"dataframe\">\n",
       "    <thead>\n",
       "        <tr>\n",
       "            <th>Date</th> <th>Prison Pos. Cases</th> <th>Prison Pos. Slope</th> <th>NYS Total Pos. Cases</th> <th>NYS Total Pos. Slope</th> <th>Day #</th> <th>Log Prison Cases</th> <th>Log NYS Cases</th>\n",
       "        </tr>\n",
       "    </thead>\n",
       "    <tbody>\n",
       "        <tr>\n",
       "            <td>20-Apr</td> <td>219              </td> <td>0.0379147        </td> <td>253060              </td> <td>0.021165            </td> <td>1    </td> <td>5.38907         </td> <td>12.4414      </td>\n",
       "        </tr>\n",
       "        <tr>\n",
       "            <td>21-Apr</td> <td>239              </td> <td>0.0913242        </td> <td>258361              </td> <td>0.0209476           </td> <td>2    </td> <td>5.47646         </td> <td>12.4621      </td>\n",
       "        </tr>\n",
       "        <tr>\n",
       "            <td>22-Apr</td> <td>263              </td> <td>0.100418         </td> <td>263292              </td> <td>0.0190857           </td> <td>3    </td> <td>5.57215         </td> <td>12.481       </td>\n",
       "        </tr>\n",
       "        <tr>\n",
       "            <td>24-Apr</td> <td>287              </td> <td>0.0669145        </td> <td>271590              </td> <td>0.0308586           </td> <td>4    </td> <td>5.65948         </td> <td>12.512       </td>\n",
       "        </tr>\n",
       "        <tr>\n",
       "            <td>25-Apr</td> <td>296              </td> <td>0.0313589        </td> <td>282143              </td> <td>0.0388564           </td> <td>5    </td> <td>5.69036         </td> <td>12.5502      </td>\n",
       "        </tr>\n",
       "        <tr>\n",
       "            <td>26-Apr</td> <td>310              </td> <td>0.0472973        </td> <td>288045              </td> <td>0.0209185           </td> <td>6    </td> <td>5.73657         </td> <td>12.5709      </td>\n",
       "        </tr>\n",
       "        <tr>\n",
       "            <td>27-Apr</td> <td>330              </td> <td>0.0645161        </td> <td>291996              </td> <td>0.0137166           </td> <td>7    </td> <td>5.79909         </td> <td>12.5845      </td>\n",
       "        </tr>\n",
       "        <tr>\n",
       "            <td>28-Apr</td> <td>343              </td> <td>0.0393939        </td> <td>295106              </td> <td>0.0106508           </td> <td>8    </td> <td>5.83773         </td> <td>12.5951      </td>\n",
       "        </tr>\n",
       "        <tr>\n",
       "            <td>29-Apr</td> <td>370              </td> <td>0.0787172        </td> <td>299691              </td> <td>0.0155368           </td> <td>9    </td> <td>5.9135          </td> <td>12.6105      </td>\n",
       "        </tr>\n",
       "        <tr>\n",
       "            <td>30-Apr</td> <td>375              </td> <td>0.0135135        </td> <td>304372              </td> <td>0.0156194           </td> <td>10   </td> <td>5.92693         </td> <td>12.626       </td>\n",
       "        </tr>\n",
       "    </tbody>\n",
       "</table>\n",
       "<p>... (19 rows omitted)</p>"
      ],
      "text/plain": [
       "Date   | Prison Pos. Cases | Prison Pos. Slope | NYS Total Pos. Cases | NYS Total Pos. Slope | Day # | Log Prison Cases | Log NYS Cases\n",
       "20-Apr | 219               | 0.0379147         | 253060               | 0.021165             | 1     | 5.38907          | 12.4414\n",
       "21-Apr | 239               | 0.0913242         | 258361               | 0.0209476            | 2     | 5.47646          | 12.4621\n",
       "22-Apr | 263               | 0.100418          | 263292               | 0.0190857            | 3     | 5.57215          | 12.481\n",
       "24-Apr | 287               | 0.0669145         | 271590               | 0.0308586            | 4     | 5.65948          | 12.512\n",
       "25-Apr | 296               | 0.0313589         | 282143               | 0.0388564            | 5     | 5.69036          | 12.5502\n",
       "26-Apr | 310               | 0.0472973         | 288045               | 0.0209185            | 6     | 5.73657          | 12.5709\n",
       "27-Apr | 330               | 0.0645161         | 291996               | 0.0137166            | 7     | 5.79909          | 12.5845\n",
       "28-Apr | 343               | 0.0393939         | 295106               | 0.0106508            | 8     | 5.83773          | 12.5951\n",
       "29-Apr | 370               | 0.0787172         | 299691               | 0.0155368            | 9     | 5.9135           | 12.6105\n",
       "30-Apr | 375               | 0.0135135         | 304372               | 0.0156194            | 10    | 5.92693          | 12.626\n",
       "... (19 rows omitted)"
      ]
     },
     "execution_count": 35,
     "metadata": {},
     "output_type": "execute_result"
    }
   ],
   "source": [
    "#describing the table\n",
    "covid = Table.read_table('DOCCS DATA - Data Fest Table (2).csv')\n",
    "covid = covid.take(np.arange(1,covid.num_rows))\n",
    "covid = covid.where(\"Date\", datascience.are.not_equal_to(\"23-Apr\"))\n",
    "covid = covid.with_column('Day #',np.arange(1,30))\n",
    "\n",
    "log_prison = covid.apply(math.log,'Prison Pos. Cases')\n",
    "log_nys = covid.apply(math.log,'NYS Total Pos. Cases')\n",
    "covid = covid.with_columns('Log Prison Cases',log_prison,'Log NYS Cases',log_nys)\n",
    "covid"
   ]
  },
  {
   "cell_type": "markdown",
   "metadata": {},
   "source": [
    "Null Hypothesis: The slope of the covid growth rate in prisons (in NYS) is the same as the slope of the covid growth rate in the rest of NYS.\n",
    "Alternative Hypothesis: The slope of the covid growth rate in prisons is greater than the slope of the covid growth rate in the rest of NYS."
   ]
  },
  {
   "cell_type": "markdown",
   "metadata": {},
   "source": [
    "Test Statistic: The slope of covid growth rate in prisons / the slope of covid growth rate in the rest of NYS\n",
    "\n",
    "Null hypothesis: test statistic = 1\n",
    "\n",
    "Alt hypothesis: test statistic > 1\n"
   ]
  },
  {
   "cell_type": "code",
   "execution_count": 19,
   "metadata": {},
   "outputs": [],
   "source": [
    "def slope(d, c, table):\n",
    "    day = table.column(d)\n",
    "    cases = table.column(c)\n",
    "    m = ((np.mean(day)*np.mean(cases))-np.mean(day*cases))/((np.mean(day)**2)-np.mean(day**2))\n",
    "    return m\n",
    "    "
   ]
  },
  {
   "cell_type": "code",
   "execution_count": 36,
   "metadata": {
    "scrolled": true
   },
   "outputs": [
    {
     "data": {
      "text/plain": [
       "array([2.05466878, 1.92597508, 2.03369541, 2.07290222, 2.02244813,\n",
       "       1.93918554, 2.12384837, 2.06357553, 2.20169166, 1.95908388,\n",
       "       2.09430984, 2.03359084, 2.08071485, 2.05998421, 2.05883011,\n",
       "       2.16852652, 2.03399771, 2.07624168, 2.13550798, 2.03945452,\n",
       "       2.02964709, 1.97781835, 2.11985486, 2.17634366, 1.96279121,\n",
       "       1.93511986, 2.12317344, 2.00597169, 1.83947704, 1.88693131,\n",
       "       2.08847022, 2.12147644, 2.1758277 , 1.86454842, 2.05168058,\n",
       "       2.03622009, 2.02725434, 2.19213342, 1.93828009, 2.11105704,\n",
       "       1.99935963, 1.86910395, 1.95720225, 2.11593325, 1.9721454 ,\n",
       "       2.0501945 , 2.0062174 , 2.13462515, 2.04577073, 1.92345168,\n",
       "       2.13164523, 1.88362787, 2.06429519, 1.99934623, 2.02669371,\n",
       "       1.97245524, 1.88246533, 2.11121303, 2.06293425, 2.05707442,\n",
       "       1.9942458 , 2.03475043, 2.0932301 , 2.02012557, 1.91434171,\n",
       "       2.08046209, 2.0700143 , 1.86482556, 1.88234241, 1.90941168,\n",
       "       1.99210184, 2.12517777, 1.88851122, 2.08658721, 2.0289634 ,\n",
       "       2.09167757, 1.93692519, 2.16587621, 2.03429575, 2.07821289,\n",
       "       2.03606148, 2.0021651 , 2.03479417, 2.05197995, 2.03679905,\n",
       "       2.00311653, 2.09701059, 1.76925092, 2.0856943 , 1.96985925,\n",
       "       2.06174923, 2.0617903 , 2.00506609, 1.96023188, 1.87397437,\n",
       "       2.1071546 , 2.00536866, 1.95970155, 1.92381917, 2.1829239 ,\n",
       "       2.12238311, 1.78717759, 2.12064229, 1.94805573, 1.9886033 ,\n",
       "       1.94690186, 2.01798997, 2.13917859, 2.06280566, 2.07320068,\n",
       "       2.05054255, 2.04725196, 2.0554772 , 2.09151896, 1.75046551,\n",
       "       2.07874869, 1.96494881, 2.05125336, 2.11605871, 2.07645051,\n",
       "       2.03721566, 1.97626446, 2.09627208, 1.9713178 , 2.03215156,\n",
       "       2.05191261, 2.13691661, 1.98389683, 1.95789062, 2.12707542,\n",
       "       1.98996237, 1.95588523, 2.11887265, 2.03698421, 2.05449092,\n",
       "       2.09260587, 1.99533044, 2.1418865 , 1.9958848 , 2.09609925,\n",
       "       1.97575631, 2.11289727, 1.86758151, 2.12467508, 2.07208866,\n",
       "       2.06454253, 1.92071846, 2.14199246, 2.03797269, 2.04563842,\n",
       "       2.10074084, 2.25317261, 2.08738422, 1.91092368, 1.88735056,\n",
       "       2.03500037, 2.03804098, 2.02968557, 1.98121494, 2.13986862,\n",
       "       2.13410687, 2.05829313, 1.98526816, 1.93848721, 1.94694134,\n",
       "       2.13667133, 1.9758869 , 2.00792298, 2.09686122, 2.03621564,\n",
       "       2.18609594, 1.9939445 , 2.1109759 , 2.00834942, 1.84757808,\n",
       "       2.09169713, 2.03548066, 2.05551154, 1.75041969, 1.98896723,\n",
       "       2.08430597, 1.86995197, 2.0734744 , 2.03282709, 1.89306544,\n",
       "       2.08661134, 1.69006404, 2.05242828, 1.98914011, 2.03064577,\n",
       "       1.96644879, 2.19234549, 2.01632771, 1.99881164, 2.05028474,\n",
       "       2.06982089, 2.05102992, 2.07946377, 2.15252972, 1.92163731,\n",
       "       2.10202554, 1.99782396, 1.93059568, 2.03185096, 2.06515881,\n",
       "       1.93630548, 2.00262079, 2.02231687, 2.12769764, 2.07628153,\n",
       "       1.84598028, 2.01422285, 2.13147731, 2.04130194, 2.02828327,\n",
       "       1.98076825, 2.12073203, 1.91043666, 2.09382825, 1.94456595,\n",
       "       2.13942237, 2.01836532, 1.76721613, 2.0862158 , 2.06537522,\n",
       "       2.14068058, 2.09600729, 1.99052338, 1.93398988, 2.00564842,\n",
       "       2.00140485, 2.08513281, 1.86061042, 1.98627988, 1.99635377,\n",
       "       1.76680005, 2.13292388, 2.02903457, 2.0022747 , 1.94642975,\n",
       "       2.05990731, 1.90272879, 2.07463592, 2.114386  , 2.02937579,\n",
       "       2.02113261, 1.97089725, 2.04127971, 1.98539532, 1.96525792,\n",
       "       2.03163182, 1.92898688, 2.05847297, 1.80499633, 1.94395053,\n",
       "       2.09451064, 2.09883177, 2.06576511, 2.10659043, 2.03480377,\n",
       "       2.02749215, 2.00420211, 2.19010972, 2.05965253, 2.0524139 ,\n",
       "       1.92150912, 1.77084172, 2.07652098, 2.0082627 , 2.06423029,\n",
       "       2.0761541 , 2.13290618, 2.01570536, 1.99743938, 1.94932642,\n",
       "       2.07673474, 1.98093731, 2.14939316, 2.11170626, 2.05346626,\n",
       "       2.01818584, 1.99926849, 2.10399204, 1.96377051, 2.1640878 ,\n",
       "       2.00876713, 2.15524508, 2.08328808, 2.10649833, 2.0324393 ,\n",
       "       1.81334033, 1.88870051, 2.06737949, 2.11949958, 2.03939354,\n",
       "       2.06567886, 2.05496099, 2.08825706, 2.12595561, 2.17289634,\n",
       "       2.08295051, 2.10597502, 2.11903788, 1.90979078, 2.09296548,\n",
       "       1.98741959, 2.12436874, 2.07916913, 2.05434783, 1.75181869,\n",
       "       2.09013589, 2.07706318, 1.94274758, 2.09695007, 1.80193241,\n",
       "       1.90542548, 2.07271599, 2.22656213, 1.8785237 , 2.02924181,\n",
       "       2.01231037, 1.98048571, 2.07333015, 1.8845565 , 1.99102033,\n",
       "       2.03852259, 1.83525796, 1.99326437, 2.02458917, 2.17077199,\n",
       "       2.00312989, 1.88019794, 2.11790849, 2.01417139, 2.0495119 ,\n",
       "       2.00586095, 2.11522018, 2.20129419, 1.97723106, 2.12856919,\n",
       "       2.02702223, 1.91471475, 1.99805667, 1.90751841, 1.98925193,\n",
       "       1.92961496, 1.9607326 , 2.08019454, 2.054188  , 1.98535365,\n",
       "       2.10564246, 1.96009848, 1.92960135, 2.14433426, 1.87271771,\n",
       "       2.03995164, 1.90068727, 2.11296336, 1.94410296, 1.87568365,\n",
       "       2.07976396, 2.09078269, 1.93278384, 2.0553876 , 2.00209801,\n",
       "       2.29281611, 1.96589161, 2.02320032, 2.12934467, 2.11510807,\n",
       "       2.01921535, 2.06213296, 2.00224523, 2.08154979, 2.04739376,\n",
       "       1.9969513 , 2.1122715 , 2.13085609, 2.15471094, 2.06580612,\n",
       "       2.25730494, 1.99440525, 2.08752379, 1.93533754, 2.09830361,\n",
       "       1.81703903, 1.96855563, 1.74180731, 2.03683941, 1.9165295 ,\n",
       "       2.08664876, 1.9598462 , 1.95242004, 1.90826621, 2.06470042,\n",
       "       1.86430719, 2.01071129, 2.1018543 , 1.93227194, 1.98220936,\n",
       "       2.09114363, 2.03142108, 1.99407743, 2.06527414, 2.00329021,\n",
       "       2.04610201, 1.91686823, 1.92407275, 1.90587006, 1.92924604,\n",
       "       2.14687978, 2.00791553, 2.13501091, 2.10203571, 1.90148776,\n",
       "       1.97427412, 2.04904308, 1.87611135, 1.83623117, 2.0644542 ,\n",
       "       1.9971655 , 2.04058039, 1.98936794, 2.02699321, 2.01193594,\n",
       "       2.21516111, 2.16512642, 1.97465783, 2.03901304, 2.01309571,\n",
       "       2.10169651, 2.15334335, 2.06885085, 1.94104952, 2.07793219,\n",
       "       1.90317932, 2.01619302, 1.9735369 , 1.89725374, 2.08307618,\n",
       "       2.11963246, 2.01373892, 1.98486573, 2.02747489, 1.84075225,\n",
       "       1.91575636, 2.05054414, 2.03533326, 2.10382785, 2.19101848,\n",
       "       1.90953695, 1.94934148, 2.13620597, 2.05914643, 1.93602965,\n",
       "       1.98933409, 1.98462518, 2.01517402, 2.05323852, 2.16893619,\n",
       "       2.1397269 , 1.99485108, 2.09198829, 1.89712178, 2.11101844,\n",
       "       1.88335348, 2.15025363, 1.97423612, 1.99861203, 2.01216322,\n",
       "       2.1135148 , 2.05124845, 1.90681369, 1.95117303, 2.26445096,\n",
       "       2.00598036, 2.03153023, 1.85192625, 1.96284833, 1.9430704 ,\n",
       "       2.10594288, 1.99985923, 1.95878791, 1.81493526, 2.00141042,\n",
       "       2.03802726, 2.0219017 , 1.84276785, 2.15875473, 2.01142551,\n",
       "       2.07197172, 1.9908286 , 2.08295543, 2.0140108 , 1.85126386,\n",
       "       2.09864016, 2.05987188, 2.1451875 , 2.20628604, 2.06183157])"
      ]
     },
     "execution_count": 36,
     "metadata": {},
     "output_type": "execute_result"
    }
   ],
   "source": [
    "#bootstrap\n",
    "\n",
    "test_statistics = datascience.make_array()\n",
    "\n",
    "for i in np.arange(500):\n",
    "    bootstrap = covid.sample(covid.num_rows, with_replacement = True)\n",
    "    bootstrap = bootstrap.sort('Day #')\n",
    "    prison_slope = slope('Day #','Log Prison Cases',bootstrap)\n",
    "    nys_slope = slope('Day #', 'Log NYS Cases',bootstrap)\n",
    "    test_statistics = np.append(prison_slope/nys_slope, test_statistics)\n",
    "\n",
    "test_statistics    "
   ]
  },
  {
   "cell_type": "code",
   "execution_count": 40,
   "metadata": {},
   "outputs": [
    {
     "data": {
      "text/plain": [
       "array([1.81334033, 2.19010972])"
      ]
     },
     "execution_count": 40,
     "metadata": {},
     "output_type": "execute_result"
    }
   ],
   "source": [
    "#find the confidence interval \n",
    "left = datascience.percentile(2.5, test_statistics)\n",
    "right = datascience.util.percentile(97.5, test_statistics)\n",
    "\n",
    "interval = datascience.util.make_array(left, right)\n",
    "interval"
   ]
  },
  {
   "cell_type": "code",
   "execution_count": 57,
   "metadata": {},
   "outputs": [
    {
     "data": {
      "text/plain": [
       "[<matplotlib.lines.Line2D at 0x1a27aec050>]"
      ]
     },
     "execution_count": 57,
     "metadata": {},
     "output_type": "execute_result"
    },
    {
     "data": {
      "image/png": "[encoded data removed]",
      "text/plain": [
       "<Figure size 432x288 with 1 Axes>"
      ]
     },
     "metadata": {},
     "output_type": "display_data"
    }
   ],
   "source": [
    "stats_table = Table().with_column('ratios',test_statistics)\n",
    "stats_table.hist()\n",
    "plt.plot(datascience.make_array(left,right),datascience.make_array(0,0),color ='yellow',lw=8)"
   ]
  },
  {
   "cell_type": "code",
   "execution_count": null,
   "metadata": {},
   "outputs": [],
   "source": []
  },
  {
   "cell_type": "code",
   "execution_count": null,
   "metadata": {},
   "outputs": [],
   "source": []
  }
 ],
 "metadata": {
  "kernelspec": {
   "display_name": "Python 3",
   "language": "python",
   "name": "python3"
  },
  "language_info": {
   "codemirror_mode": {
    "name": "ipython",
    "version": 3
   },
   "file_extension": ".py",
   "mimetype": "text/x-python",
   "name": "python",
   "nbconvert_exporter": "python",
   "pygments_lexer": "ipython3",
   "version": "3.7.6"
  }
 },
 "nbformat": 4,
 "nbformat_minor": 4
}
